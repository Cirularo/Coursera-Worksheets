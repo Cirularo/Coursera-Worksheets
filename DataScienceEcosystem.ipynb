{
 "cells": [
  {
   "cell_type": "markdown",
   "id": "36621bca-1951-41a0-9dca-8d0eeb624df6",
   "metadata": {},
   "source": [
    "# Data Science Tools and Ecosystem"
   ]
  },
  {
   "cell_type": "markdown",
   "id": "96eb1904-9cf0-4e32-8823-8db22920f59b",
   "metadata": {},
   "source": [
    "In this notebook, Data Science Tools and Ecosystem are summarized."
   ]
  },
  {
   "cell_type": "markdown",
   "id": "6fc055d9-3a96-473c-bc59-a5fc075e21e8",
   "metadata": {},
   "source": [
    "**Objectives:**\n",
    "* List some popular languages for data science\n",
    "* List some commonly used libraries used by data scientists\n",
    "* List some open source tools for data science "
   ]
  },
  {
   "cell_type": "markdown",
   "id": "fe9d04f4-f117-404e-bd40-e7ed231bea40",
   "metadata": {},
   "source": [
    "Some of the popular languages that Data Scientists use are:\n",
    "* Python\n",
    "* R\n",
    "* SQL"
   ]
  },
  {
   "cell_type": "markdown",
   "id": "78c4f1dd-29cf-475a-92bb-c6441472fd7a",
   "metadata": {},
   "source": [
    "Some of the commonly used libraries used by Data Scientists include:\n",
    "* Numpy\n",
    "* Scikit-Learn\n",
    "* Tensorflow"
   ]
  },
  {
   "cell_type": "markdown",
   "id": "5fe9922d-2fcc-4d9a-9276-d2a585dfc07b",
   "metadata": {},
   "source": [
    "|Data Science Tools|\n",
    "|---|\n",
    "|Jupyter Notebook|\n",
    "|Power BI|\n",
    "|Visual Studio Code|"
   ]
  },
  {
   "cell_type": "markdown",
   "id": "4a010fd3-cf39-40e2-bb95-7dca7f257607",
   "metadata": {},
   "source": [
    "### Below are a few examples of evaluating arithmetric expressions in Python"
   ]
  },
  {
   "cell_type": "code",
   "execution_count": 4,
   "id": "b0cbbb16-ae8e-40eb-aad3-b8e355c5490a",
   "metadata": {},
   "outputs": [
    {
     "data": {
      "text/plain": [
       "17"
      ]
     },
     "execution_count": 4,
     "metadata": {},
     "output_type": "execute_result"
    }
   ],
   "source": [
    "#This is a simple arithmetric expression to multiply then add integers\n",
    "(3*4)+5"
   ]
  },
  {
   "cell_type": "code",
   "execution_count": 6,
   "id": "44ad9bfd-1562-4738-88b1-474972d15b4f",
   "metadata": {},
   "outputs": [
    {
     "data": {
      "text/plain": [
       "3.3333333333333335"
      ]
     },
     "execution_count": 6,
     "metadata": {},
     "output_type": "execute_result"
    }
   ],
   "source": [
    "#This will convert 200 minutes to hours by dividing 60\n",
    "200 / 60"
   ]
  },
  {
   "cell_type": "markdown",
   "id": "e4be541a-fe5b-4e0e-a3cd-dbbba9dc898e",
   "metadata": {},
   "source": [
    "## Author:\n",
    "Leon Ao"
   ]
  }
 ],
 "metadata": {
  "kernelspec": {
   "display_name": "Python 3 (ipykernel)",
   "language": "python",
   "name": "python3"
  },
  "language_info": {
   "codemirror_mode": {
    "name": "ipython",
    "version": 3
   },
   "file_extension": ".py",
   "mimetype": "text/x-python",
   "name": "python",
   "nbconvert_exporter": "python",
   "pygments_lexer": "ipython3",
   "version": "3.12.4"
  }
 },
 "nbformat": 4,
 "nbformat_minor": 5
}
